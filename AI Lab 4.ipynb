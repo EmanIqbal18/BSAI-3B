{
 "cells": [
  {
   "cell_type": "markdown",
   "id": "d74b3ac3",
   "metadata": {},
   "source": [
    "## **LAB - 04**"
   ]
  },
  {
   "cell_type": "markdown",
   "id": "129e6023",
   "metadata": {},
   "source": [
    "### **Task - 01**\n",
    "### **Code for LUHN Algorithum**"
   ]
  },
  {
   "cell_type": "code",
   "execution_count": 12,
   "id": "9498ca5c",
   "metadata": {},
   "outputs": [
    {
     "name": "stdout",
     "output_type": "stream",
     "text": [
      "INVALID\n"
     ]
    }
   ],
   "source": [
    "def luhn(n):\n",
    "    c = input(\"Enter your number: \")\n",
    "    digits = []\n",
    "    for ch in n:\n",
    "        if ch!=\" \":\n",
    "            digits.append(int(ch))\n",
    "    r = []\n",
    "    for i in range(len(digits)-1,-1,-1):\n",
    "        r.append(digits[i])\n",
    "    total = 0 \n",
    "    for i in range(len(r)):\n",
    "        num = r[i]\n",
    "        if i % 2 == 1:\n",
    "            num = num * 2\n",
    "            if num > 9:\n",
    "                num = num - 9\n",
    "        total += num\n",
    "\n",
    "    if total % 10 == 0:\n",
    "        return \"VALID\"\n",
    "    else:\n",
    "        return \"INVALID\"\n",
    "print(luhn(c))\n"
   ]
  },
  {
   "cell_type": "markdown",
   "id": "5320aa2f",
   "metadata": {},
   "source": [
    "### **Task - 02**\n",
    "### **Write a python program to remove punctuations from the given string**"
   ]
  },
  {
   "cell_type": "code",
   "execution_count": 8,
   "id": "b1b9e34d",
   "metadata": {},
   "outputs": [
    {
     "name": "stdout",
     "output_type": "stream",
     "text": [
      "Kuch Bhi Kuch Bhi\n"
     ]
    }
   ],
   "source": [
    "text = \"Kuch Bhi!, Kuch Bhi?\"\n",
    "punctuations = \"!?,.;:'\\\"-()[]{}\"\n",
    "\n",
    "remove_string = \"\"\n",
    "for char in text:\n",
    "    if char not in punctuations:\n",
    "        remove_string += char\n",
    "\n",
    "print(remove_string)"
   ]
  },
  {
   "cell_type": "markdown",
   "id": "a8523886",
   "metadata": {},
   "source": [
    "### **Task - 03**\n",
    "### **Write a python program to sort the sentence in alphabetic order**"
   ]
  },
  {
   "cell_type": "code",
   "execution_count": 13,
   "id": "b8a682e3",
   "metadata": {},
   "outputs": [
    {
     "name": "stdout",
     "output_type": "stream",
     "text": [
      "eman is my name \n"
     ]
    }
   ],
   "source": [
    "def sort(e):\n",
    "    e = input(\"Enter your sentence:\")\n",
    "    words = []\n",
    "    w = \"\"\n",
    "    for ch in e + \" \":\n",
    "        if ch != \" \":\n",
    "            w += ch\n",
    "        else:\n",
    "            words.append(w)\n",
    "            w = \"\"\n",
    "\n",
    "    for i in range (len(words)):\n",
    "        for j in range(len(words)):\n",
    "            if words[i].lower()<words[j].lower():\n",
    "                h = words[i]\n",
    "                words[i]= words[j]\n",
    "                words[j]= h\n",
    "    s = \"\"\n",
    "    for word in words:\n",
    "        s+=word+\" \"\n",
    "    return s\n",
    "print(sort(e))"
   ]
  }
 ],
 "metadata": {
  "kernelspec": {
   "display_name": "Python 3",
   "language": "python",
   "name": "python3"
  },
  "language_info": {
   "codemirror_mode": {
    "name": "ipython",
    "version": 3
   },
   "file_extension": ".py",
   "mimetype": "text/x-python",
   "name": "python",
   "nbconvert_exporter": "python",
   "pygments_lexer": "ipython3",
   "version": "3.13.0"
  }
 },
 "nbformat": 4,
 "nbformat_minor": 5
}
