{
 "cells": [
  {
   "cell_type": "markdown",
   "id": "d74b3ac3",
   "metadata": {},
   "source": [
    "## **LAB - 04**"
   ]
  },
  {
   "cell_type": "markdown",
   "id": "129e6023",
   "metadata": {},
   "source": [
    "### **Task - 01**\n",
    "### **Code for LUHN Algorithum**"
   ]
  },
  {
   "cell_type": "code",
   "execution_count": 7,
   "id": "9498ca5c",
   "metadata": {},
   "outputs": [
    {
     "name": "stdout",
     "output_type": "stream",
     "text": [
      "INVALID\n"
     ]
    }
   ],
   "source": [
    "def luhn(n):\n",
    "    n = n.replace(\" \",\"\")\n",
    "    sum = 0 \n",
    "    reverse = n[::-1]\n",
    "    for i in range(len(reverse)):\n",
    "        num = int(reverse[i])\n",
    "        if i % 2 == 1:\n",
    "            num *= 2\n",
    "            if num > 9:\n",
    "                num -= 9\n",
    "        sum += num\n",
    "\n",
    "    if sum % 10 == 0:\n",
    "        return \"VALID\"\n",
    "    else:\n",
    "        return \"INVALID\"\n",
    "c = input(\"Enter card number: \")\n",
    "print(luhn(c))\n"
   ]
  },
  {
   "cell_type": "markdown",
   "id": "5320aa2f",
   "metadata": {},
   "source": [
    "### **Task - 02**\n",
    "### **Write a python program to remove punctuations from the given string**"
   ]
  },
  {
   "cell_type": "code",
   "execution_count": 8,
   "id": "b1b9e34d",
   "metadata": {},
   "outputs": [
    {
     "name": "stdout",
     "output_type": "stream",
     "text": [
      "Kuch Bhi Kuch Bhi\n"
     ]
    }
   ],
   "source": [
    "text = \"Kuch Bhi!, Kuch Bhi?\"\n",
    "punctuations = \"!?,.;:'\\\"-()[]{}\"\n",
    "\n",
    "remove_string = \"\"\n",
    "for char in text:\n",
    "    if char not in punctuations:\n",
    "        remove_string += char\n",
    "\n",
    "print(remove_string)"
   ]
  },
  {
   "cell_type": "markdown",
   "id": "a8523886",
   "metadata": {},
   "source": [
    "### **Task - 03**\n",
    "### **Write a python program to sort the sentence in alphabetic order**"
   ]
  },
  {
   "cell_type": "code",
   "execution_count": 11,
   "id": "ac31c792",
   "metadata": {},
   "outputs": [
    {
     "name": "stdout",
     "output_type": "stream",
     "text": [
      "Eman am i\n"
     ]
    }
   ],
   "source": [
    "def order(a):\n",
    "    words = a.split()\n",
    "    words.sort()\n",
    "    return \" \".join(words)\n",
    "a = input(\"Enter the sentence you want to sort:\")\n",
    "print(order(a))\n"
   ]
  }
 ],
 "metadata": {
  "kernelspec": {
   "display_name": "Python 3",
   "language": "python",
   "name": "python3"
  },
  "language_info": {
   "codemirror_mode": {
    "name": "ipython",
    "version": 3
   },
   "file_extension": ".py",
   "mimetype": "text/x-python",
   "name": "python",
   "nbconvert_exporter": "python",
   "pygments_lexer": "ipython3",
   "version": "3.13.0"
  }
 },
 "nbformat": 4,
 "nbformat_minor": 5
}
