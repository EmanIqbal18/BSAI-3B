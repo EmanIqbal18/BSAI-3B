{
 "cells": [
  {
   "cell_type": "markdown",
   "id": "05a6c7d5",
   "metadata": {},
   "source": [
    "### **BFS without queue and without  node**"
   ]
  },
  {
   "cell_type": "code",
   "execution_count": 1,
   "id": "07f73d93",
   "metadata": {},
   "outputs": [
    {
     "name": "stdout",
     "output_type": "stream",
     "text": [
      "0 1 2 "
     ]
    }
   ],
   "source": [
    "\n",
    "g = {\n",
    "    '0': ['1', '2'],\n",
    "    '1': ['0', '3', '4'],\n",
    "    '2': ['0'],\n",
    "    '3': ['1'],\n",
    "    '4': ['2', '3']\n",
    "}\n",
    "\n",
    "def bfs(g, s):\n",
    "    visited = set()\n",
    "    visited.add(s)\n",
    "\n",
    "    print(s, end=\" \")\n",
    "    \n",
    "    for n in g[s]:\n",
    "        if n not in visited:\n",
    "            print(n, end=\" \")\n",
    "            visited.add(n)\n",
    "\n",
    "bfs(g, '0')\n"
   ]
  },
  {
   "cell_type": "markdown",
   "id": "b0cbff48",
   "metadata": {},
   "source": [
    "### **BFS with queue and node**"
   ]
  },
  {
   "cell_type": "code",
   "execution_count": 2,
   "id": "8aa178be",
   "metadata": {},
   "outputs": [
    {
     "name": "stdout",
     "output_type": "stream",
     "text": [
      "BFS Traversal (using Queue):\n",
      "0 1 2 3 4 "
     ]
    }
   ],
   "source": [
    "from collections import deque\n",
    "\n",
    "def bfs(g, s):\n",
    "    visited = set()               \n",
    "    queue = deque([s])        \n",
    "    while queue:\n",
    "        node = queue.popleft()    \n",
    "\n",
    "        if node not in visited:\n",
    "            print(node, end=\" \")  \n",
    "            visited.add(node)\n",
    "\n",
    "        \n",
    "            for n in g[node]:\n",
    "                if n not in visited:\n",
    "                    queue.append(n)\n",
    "                    \n",
    "g = {\n",
    "    '0': ['1', '2'],\n",
    "    '1': ['0', '3', '4'],\n",
    "    '2': ['0'],\n",
    "    '3': ['1'],\n",
    "    '4': ['2', '3']\n",
    "}\n",
    "\n",
    "print(\"BFS Traversal (using Queue):\")\n",
    "bfs(g, '0')\n"
   ]
  }
 ],
 "metadata": {
  "kernelspec": {
   "display_name": "Python 3",
   "language": "python",
   "name": "python3"
  },
  "language_info": {
   "codemirror_mode": {
    "name": "ipython",
    "version": 3
   },
   "file_extension": ".py",
   "mimetype": "text/x-python",
   "name": "python",
   "nbconvert_exporter": "python",
   "pygments_lexer": "ipython3",
   "version": "3.13.0"
  }
 },
 "nbformat": 4,
 "nbformat_minor": 5
}
