{
 "cells": [
  {
   "cell_type": "markdown",
   "id": "7f1b51f7",
   "metadata": {},
   "source": [
    "### **DFS with Stack** "
   ]
  },
  {
   "cell_type": "code",
   "execution_count": 2,
   "id": "f4521bad",
   "metadata": {},
   "outputs": [
    {
     "name": "stdout",
     "output_type": "stream",
     "text": [
      "DFS Traversal :\n",
      "0\n",
      "1\n",
      "3\n",
      "4\n",
      "2\n"
     ]
    },
    {
     "data": {
      "text/plain": [
       "{'0', '1', '2', '3', '4'}"
      ]
     },
     "execution_count": 2,
     "metadata": {},
     "output_type": "execute_result"
    }
   ],
   "source": [
    "def dfs(g, s):\n",
    "    visited = set()           \n",
    "    stack = [s]           \n",
    "\n",
    "    while stack:              \n",
    "        node = stack.pop()    \n",
    "\n",
    "        if node not in visited:\n",
    "            print(node)       \n",
    "            visited.add(node)\n",
    "            for n in reversed(list(g[node])):\n",
    "                if n not in visited:\n",
    "                    stack.append(n)\n",
    "    return visited\n",
    "\n",
    "g = {\n",
    "    '0': ['1', '2'],\n",
    "    '1': ['0', '3', '4'],\n",
    "    '2': ['0'],\n",
    "    '3': ['1'],\n",
    "    '4': ['2', '3']\n",
    "}\n",
    "\n",
    "# Run DFS\n",
    "print(\"DFS Traversal :\")\n",
    "dfs(g, '0')\n",
    " \n",
    "     \n",
    "\n",
    "    "
   ]
  }
 ],
 "metadata": {
  "kernelspec": {
   "display_name": "Python 3",
   "language": "python",
   "name": "python3"
  },
  "language_info": {
   "codemirror_mode": {
    "name": "ipython",
    "version": 3
   },
   "file_extension": ".py",
   "mimetype": "text/x-python",
   "name": "python",
   "nbconvert_exporter": "python",
   "pygments_lexer": "ipython3",
   "version": "3.13.0"
  }
 },
 "nbformat": 4,
 "nbformat_minor": 5
}
