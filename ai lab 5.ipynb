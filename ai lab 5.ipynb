def dfs(g,s):
    visited = set()
    stack = [s]
    while stack:
        node = stack.pop()
        if node not in visited:
            print(node)
            visited.add(node)
            n = g[node]

            for i in range(len(n)-1,-1,-1):
                if n[i] not in visited:
                    stack.append(n[i])
    return visited
g = {
    '0':['1','2','3'],
    '1':['3','4'],
    '2':['5','4'],
    '3':['0'],
    '4':['1','5'],
    '5':['3']
}
print("DFS Traversal:")
dfs(g, '0')
