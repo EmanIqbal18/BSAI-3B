{
 "cells": [
  {
   "cell_type": "markdown",
   "id": "7f1b51f7",
   "metadata": {},
   "source": [
    "### **DFS with Stack** "
   ]
  },
  {
   "cell_type": "code",
   "execution_count": 8,
   "id": "80d00e70",
   "metadata": {},
   "outputs": [
    {
     "name": "stdout",
     "output_type": "stream",
     "text": [
      "DFS Traversal:\n",
      "0\n",
      "1\n",
      "3\n",
      "4\n",
      "5\n",
      "2\n"
     ]
    },
    {
     "data": {
      "text/plain": [
       "{'0', '1', '2', '3', '4', '5'}"
      ]
     },
     "execution_count": 8,
     "metadata": {},
     "output_type": "execute_result"
    }
   ],
   "source": [
    "def dfs(g,s):\n",
    "    visited = set()\n",
    "    stack = [s]\n",
    "    while stack:\n",
    "        node = stack.pop()\n",
    "        if node not in visited:\n",
    "            print(node)\n",
    "            visited.add(node)\n",
    "            n = g[node]\n",
    "\n",
    "            for i in range(len(n)-1,-1,-1):\n",
    "                if n[i] not in visited:\n",
    "                    stack.append(n[i])\n",
    "    return visited\n",
    "g = {\n",
    "    '0':['1','2','3'],\n",
    "    '1':['3','4'],\n",
    "    '2':['5','4'],\n",
    "    '3':['0'],\n",
    "    '4':['1','5'],\n",
    "    '5':['3']\n",
    "}\n",
    "print(\"DFS Traversal:\")\n",
    "dfs(g, '0')"
   ]
  }
 ],
 "metadata": {
  "kernelspec": {
   "display_name": "Python 3",
   "language": "python",
   "name": "python3"
  },
  "language_info": {
   "codemirror_mode": {
    "name": "ipython",
    "version": 3
   },
   "file_extension": ".py",
   "mimetype": "text/x-python",
   "name": "python",
   "nbconvert_exporter": "python",
   "pygments_lexer": "ipython3",
   "version": "3.13.0"
  }
 },
 "nbformat": 4,
 "nbformat_minor": 5
}
